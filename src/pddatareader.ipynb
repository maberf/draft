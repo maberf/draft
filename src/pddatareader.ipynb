{
 "metadata": {
  "language_info": {
   "codemirror_mode": {
    "name": "ipython",
    "version": 3
   },
   "file_extension": ".py",
   "mimetype": "text/x-python",
   "name": "python",
   "nbconvert_exporter": "python",
   "pygments_lexer": "ipython3",
   "version": "3.8.3-final"
  },
  "orig_nbformat": 2,
  "kernelspec": {
   "name": "python3",
   "display_name": "Python 3"
  }
 },
 "nbformat": 4,
 "nbformat_minor": 2,
 "cells": [
  {
   "cell_type": "code",
   "execution_count": 54,
   "metadata": {},
   "outputs": [],
   "source": [
    "import pandas as pd\n",
    "from pandas_datareader import data as web\n",
    "from datetime import datetime, timedelta"
   ]
  },
  {
   "cell_type": "code",
   "execution_count": 55,
   "metadata": {},
   "outputs": [
    {
     "output_type": "stream",
     "name": "stdout",
     "text": [
      "2019-11-18\n"
     ]
    }
   ],
   "source": [
    "initial_datetmp = datetime.now() - timedelta(365)\n",
    "initial_date = initial_datetmp.date()\n",
    "print(initial_date)"
   ]
  },
  {
   "cell_type": "code",
   "execution_count": 56,
   "metadata": {},
   "outputs": [],
   "source": [
    "# criar um DataFrame vazio\n",
    "df = pd.DataFrame()"
   ]
  },
  {
   "cell_type": "code",
   "execution_count": 57,
   "metadata": {},
   "outputs": [
    {
     "output_type": "execute_result",
     "data": {
      "text/plain": [
       "                  High         Low        Open       Close   Volume  \\\n",
       "Date                                                                  \n",
       "2019-11-19  124.000000  120.800003  124.000000  121.000000  21721.0   \n",
       "2019-11-21  123.000000  118.500000  122.919998  121.129997  15453.0   \n",
       "2019-11-22  122.489998  120.320000  122.489998  121.830002   2759.0   \n",
       "2019-11-25  121.800003  118.790001  121.800003  120.050003   5234.0   \n",
       "2019-11-26  121.000000  119.540001  120.980003  120.010002   8433.0   \n",
       "\n",
       "             Adj Close  \n",
       "Date                    \n",
       "2019-11-19  121.000000  \n",
       "2019-11-21  121.129997  \n",
       "2019-11-22  121.830002  \n",
       "2019-11-25  120.050003  \n",
       "2019-11-26  120.010002  "
      ],
      "text/html": "<div>\n<style scoped>\n    .dataframe tbody tr th:only-of-type {\n        vertical-align: middle;\n    }\n\n    .dataframe tbody tr th {\n        vertical-align: top;\n    }\n\n    .dataframe thead th {\n        text-align: right;\n    }\n</style>\n<table border=\"1\" class=\"dataframe\">\n  <thead>\n    <tr style=\"text-align: right;\">\n      <th></th>\n      <th>High</th>\n      <th>Low</th>\n      <th>Open</th>\n      <th>Close</th>\n      <th>Volume</th>\n      <th>Adj Close</th>\n    </tr>\n    <tr>\n      <th>Date</th>\n      <th></th>\n      <th></th>\n      <th></th>\n      <th></th>\n      <th></th>\n      <th></th>\n    </tr>\n  </thead>\n  <tbody>\n    <tr>\n      <th>2019-11-19</th>\n      <td>124.000000</td>\n      <td>120.800003</td>\n      <td>124.000000</td>\n      <td>121.000000</td>\n      <td>21721.0</td>\n      <td>121.000000</td>\n    </tr>\n    <tr>\n      <th>2019-11-21</th>\n      <td>123.000000</td>\n      <td>118.500000</td>\n      <td>122.919998</td>\n      <td>121.129997</td>\n      <td>15453.0</td>\n      <td>121.129997</td>\n    </tr>\n    <tr>\n      <th>2019-11-22</th>\n      <td>122.489998</td>\n      <td>120.320000</td>\n      <td>122.489998</td>\n      <td>121.830002</td>\n      <td>2759.0</td>\n      <td>121.830002</td>\n    </tr>\n    <tr>\n      <th>2019-11-25</th>\n      <td>121.800003</td>\n      <td>118.790001</td>\n      <td>121.800003</td>\n      <td>120.050003</td>\n      <td>5234.0</td>\n      <td>120.050003</td>\n    </tr>\n    <tr>\n      <th>2019-11-26</th>\n      <td>121.000000</td>\n      <td>119.540001</td>\n      <td>120.980003</td>\n      <td>120.010002</td>\n      <td>8433.0</td>\n      <td>120.010002</td>\n    </tr>\n  </tbody>\n</table>\n</div>"
     },
     "metadata": {},
     "execution_count": 57
    }
   ],
   "source": [
    "# escolher a ação desejada\n",
    "acao = 'HGRU11.SA'# importar dados para o DataFrame\n",
    "df = web.DataReader(acao, data_source='yahoo', start=initial_datetmp)\n",
    "# ver as 5 primeiras entradas\n",
    "df.head()"
   ]
  },
  {
   "cell_type": "code",
   "execution_count": 58,
   "metadata": {},
   "outputs": [
    {
     "output_type": "stream",
     "name": "stdout",
     "text": [
      "126.18780489665706\n9.250760856366298\n"
     ]
    }
   ],
   "source": [
    "print(df['Close'].mean())\n",
    "print(df['Close'].std())"
   ]
  },
  {
   "cell_type": "code",
   "execution_count": null,
   "metadata": {},
   "outputs": [],
   "source": []
  }
 ]
}